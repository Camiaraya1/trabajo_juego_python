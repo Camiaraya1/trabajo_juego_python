{
 "cells": [
  {
   "cell_type": "code",
   "execution_count": 1,
   "metadata": {},
   "outputs": [
    {
     "name": "stdout",
     "output_type": "stream",
     "text": [
      "inicio taller N°3 Mini juego\n"
     ]
    }
   ],
   "source": [
    "print(\"inicio taller N°3 Mini juego\")\n"
   ]
  },
  {
   "cell_type": "code",
   "execution_count": 4,
   "metadata": {},
   "outputs": [
    {
     "name": "stdout",
     "output_type": "stream",
     "text": [
      "El numero aleatorio ganador es: 20\n"
     ]
    }
   ],
   "source": [
    "# Desarrollo pregunta 1: desarrollando numeros aleatorios\n",
    "\n",
    "import random #Importando numeros aleatorios\n",
    "numero_random = random.randint(0,30) # Rango elegido (se puede editar)\n",
    "print(f\"El numero aleatorio ganador es: {numero_random}\") #f reemplaza el valor que va a tener"
   ]
  },
  {
   "cell_type": "code",
   "execution_count": 6,
   "metadata": {},
   "outputs": [
    {
     "name": "stdout",
     "output_type": "stream",
     "text": [
      "El valor elegido es de tipo <class 'str'>\n",
      "Ahora el valor es de tipo <class 'int'> y su valor ingresado es 4\n"
     ]
    }
   ],
   "source": [
    "# recibiendo un número en timepo real\n",
    "valor_elegido = input(\"ingrese un valor\")\n",
    "print(f\"El valor elegido es de tipo {type(valor_elegido)}\")\n",
    "valor_elegido = int(valor_elegido) # De esta forma transformamos la respuesta del jugador a número entero (para que la máquina lo lea como class int y no como class str)\n",
    "print(f\"Ahora el valor es de tipo {type(valor_elegido)} y su valor ingresado es {valor_elegido}\")"
   ]
  },
  {
   "cell_type": "code",
   "execution_count": 1,
   "metadata": {},
   "outputs": [
    {
     "name": "stdout",
     "output_type": "stream",
     "text": [
      "El valor seleccionado es 27\n",
      "El valor que ingresaste es 26\n",
      "Mayor que eso\n"
     ]
    }
   ],
   "source": [
    "# Desarrollo pregunta 1: Desarrollando oportunidades (máx 3 intentos)\n",
    "import random\n",
    "numero_random = random.randint(1, 30)\n",
    "print(f\"El valor seleccionado es {numero_random}\")\n",
    "\n",
    "for i in range(4):\n",
    "\n",
    "  #Recibiendo un valor ingresado en tiempo real\n",
    "    valor_elegido = input(\"Ingresa un valor\") # Número seleccionado por jugador\n",
    "    print(f\"El valor que ingresaste es {valor_elegido}\") \n",
    "    valor_elegido = int(valor_elegido) # A número entero\n",
    "\n",
    "    #Estableciendo las condiciones y sus distintas oportunidades del juego\n",
    "    if numero_random < valor_elegido: # Cuando el número random o aleatorio es menor al ingresado por el jugador debe pensar en uno menor (4 intentos máx)\n",
    "     print(\"Menor que eso\")\n",
    "\n",
    "    if valor_elegido < numero_random: # Cuando el número random o aleatorio es mayor al ingresado por el jugador debe pensar en uno mayor (4 intentos máx)\n",
    "        print(\"Mayor que eso\")\n",
    "\n",
    "    if valor_elegido == numero_random: # Cuando el número random o aleatorio es igual al ingresado por el jugador. De esta forma gana el juego\n",
    "        print(\"¡Lo lograste!\")\n",
    "\n",
    "    break \n",
    "    \n"
   ]
  },
  {
   "cell_type": "code",
   "execution_count": null,
   "metadata": {},
   "outputs": [],
   "source": []
  }
 ],
 "metadata": {
  "kernelspec": {
   "display_name": "Python 3.10.8 64-bit",
   "language": "python",
   "name": "python3"
  },
  "language_info": {
   "codemirror_mode": {
    "name": "ipython",
    "version": 3
   },
   "file_extension": ".py",
   "mimetype": "text/x-python",
   "name": "python",
   "nbconvert_exporter": "python",
   "pygments_lexer": "ipython3",
   "version": "3.10.8"
  },
  "orig_nbformat": 4,
  "vscode": {
   "interpreter": {
    "hash": "680909a85cd0f96ba1c50ae49c7276dc4874e63b5fd1d1624a0b59680dc2cd74"
   }
  }
 },
 "nbformat": 4,
 "nbformat_minor": 2
}
